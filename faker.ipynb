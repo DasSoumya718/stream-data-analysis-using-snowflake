from faker import Faker
import csv
import random

fake = Faker()
rows = []

for _ in range(100):
    rows.append([
        random.randint(1000, 9999),
        fake.first_name(),
        fake.last_name(),
        fake.email(),
        fake.street_address(),
        fake.city(),
        fake.state(),
        fake.country()
    ])

with open('customers.csv', mode='w', newline='') as f:
    writer = csv.writer(f)
    writer.writerow(["customer_id", "first_name", "last_name", "email", "street", "city", "state", "country"])
    writer.writerows(rows)

print("Generated 100 fake customer records.")
